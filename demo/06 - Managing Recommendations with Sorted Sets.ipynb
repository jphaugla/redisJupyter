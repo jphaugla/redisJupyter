{
 "cells": [
  {
   "cell_type": "markdown",
   "metadata": {
    "kernelspec": {
     "display_name": "Python (Redis Workshop)",
     "language": "Python",
     "name": "redisworkshop"
    }
   },
   "source": [
    "# Serving User Recommendations with Sorted Sets\n",
    "\n",
    "Personalization is an  important part of growing a successful  website. Personalization can\n",
    "increase user traffic on  your website. Various algorithms exist to  predict what content a\n",
    "user might be  interested in given their  browsing history. Many third  party systems exist\n",
    "to compute  recommendations, but recommendations aren't  useful if they can't  be served to\n",
    "users quickly.\n",
    "\n",
    "In this chapter, we are going to look at  how the Redis sorted set set datatype can be used\n",
    "to serve up blog recommendations. Among the topics we will cover in this chapter:\n",
    "\n",
    "* Sorted sets versus sets\n",
    "* Specifying data storage conventions \n",
    "* Storing recommendations\n",
    "* Viewing Recommendations  \n",
    "\n",
    "## Sorted Set \n",
    "\n",
    "Redis provides two types of set data structures, the set and the sorted set. In the\n",
    "previous chapter we looked at using the Set type to calculate unique views, and in this\n",
    "chapter we are going to look at using the other set type, Sorted Sets, to serve up user\n",
    "recommendations.\n",
    "\n",
    "Sorted sets in Redis are similar to the basic set data structure, except every element in\n",
    "the set is associated with a floating point value, called the score. Like Redis sets,\n",
    "sorted sets consist of a collection of unique elements but the set is ordered according to\n",
    "two rules:\n",
    "\n",
    "* Elements with different scores are ordered by score\n",
    "* Elements with same scores are ordered by string comparison on the element\n",
    "\n",
    "Using these two rules, the set is maintained in ascending order with the smallest element\n",
    "at position zero. As of the 3.2 release, Redis provides 21 different commands to operate\n",
    "on sorted sets. These commands allow the user to perform a variety of operations:\n",
    "\n",
    "* Add and remove elements from the set\n",
    "* Retrieve elements of the set based on score or element name\n",
    "* Update element scores\n",
    "* Combine multiple sets\n",
    "* Determine the size of sets\n",
    "\n",
    "You may also hear Redis sorted sets referred to as zsets.\n",
    "\n",
    "## Blog Post Recommendations\n",
    "\n",
    "In this chapter, we are going to look at building a system for quickly serving blog post\n",
    "recommendations to users of our website. In our system, recommendations will be generated\n",
    "from a variety of data sources that are processed off-line to generate a list of\n",
    "recommendations that will then be loaded into Redis for serving to visitors.\n",
    "\n",
    "The recommendation engine will deliver a new set of recommendations for users all at once.\n",
    "The recommendations data will be structured as a `user_id` followed by a list of\n",
    "`(page_id, score)` tuples. A variable number of recommendations is generated for each user.\n",
    "\n",
    "## Data Storage Conventions\n",
    "\n",
    "Our recommended blog posts will be stored in the database using the sorted set datatype.\n",
    "The recommended blog posts for a particular user will be stored under the key \n",
    "`user:{user_id}:recommendations`.  The recommendation data will consist of the `page_id`\n",
    "of the blog post and a score between -1.0 to 1.0, with 1.0 being highly recommended and a\n",
    "-1.0 being not recommended.\n",
    "\n",
    "To improve the clarity of our examples, the Notebook environment includes several utility \n",
    "functions.  In this chapter, the primary utility functions we use are:\n",
    "\n",
    "* `user_recommendation_key` - generates the appropriate key for the user recommendations\n",
    "* `clear_user_recommendations` - removes the recommendations for the given user\n",
    "\n",
    "## Storing Recommendations\n",
    "\n",
    "The first step in building our example recommendation system is building a system to load\n",
    "the data from recommendation backend into Redis. As our code processes data from the\n",
    "backend recommendation system it needs to:\n",
    "\n",
    "* Parse the recommendation data\n",
    "* Compute a key from the data\n",
    "* Remove the key if it exists\n",
    "* Store the recommendations in Redis\n",
    "\n",
    "The Redis ZADD command adds the specified member plus score to the sorted set, creating\n",
    "the sorted set if it doesn't exits. In our sample system, an entire batch of\n",
    "recommendations is loaded at once, so we can't just use the ZADD command, otherwise we\n",
    "would never clear the old recommendations.\n",
    "\n",
    "*Run our example by selecting the cell and pressing SHIFT + ENTER*"
   ]
  },
  {
   "cell_type": "code",
   "execution_count": null,
   "metadata": {},
   "outputs": [],
   "source": [
    "import redis\n",
    "\n",
    "# example connection parameters \n",
    "config = {\n",
    "    \"host\": \"redis\",\n",
    "    \"port\": 6379\n",
    "}\n",
    "\n",
    "r = redis.StrictRedis(**config)\n",
    "\n",
    "sample_user_recommendations = [\n",
    "    (3001, [ (201, -1), (202, -.8), (203, .4), (204, .9), (205, .8), (206, .7)]),\n",
    "    (3002, [ (201, -1), (202,  .7), (204, .3) ]),\n",
    "    (3003, [ (201, -1), (202, -.2), (203, .4) ]),\n",
    "    (3004, [ (201, -1), (202, -.3), (203, .2) ]),\n",
    "    (3005, [ (201, -1), (202,  .8), (203, .2), (204, .9) ]),\n",
    "    (3006, [ (201, -1), (202,  .8), (203, .1), (204, .9) ]),\n",
    "    (3007, [ (201, -1), (202,  .2), (203, .1) ]),\n",
    "    (3008, [ (201, -1), (202,  .1), (203, .6) ]),\n",
    "    (3009, [ (201, -1), (202,  .7), (203, .6), (204, .9) ]),\n",
    "    (3010, [ (201, -1), (202,  .2) ])\n",
    "]"
   ]
  },
  {
   "cell_type": "code",
   "execution_count": null,
   "metadata": {
    "kernelspec": {
     "display_name": "Python (Redis Workshop)",
     "language": "Python",
     "name": "redisworkshop"
    }
   },
   "outputs": [],
   "source": [
    "\n",
    "def user_recommendation_key(user_id):\n",
    "    \"Returns the appropriate key for user recommendations\"\n",
    "\n",
    "    return \"user:\" + str(user_id) + \":recommendations\"\n",
    "\n",
    "def clear_user_recommendations(r, user_id):\n",
    "    \"Clears the recommendations for the given user\"\n",
    "\n",
    "    key = user_recommendation_key(user_id)\n",
    "    r.delete(key)\n",
    "\n",
    "def get_user_recommendations(r, user_id):\n",
    "    \"Returns the recommendations for the specified user\"\n",
    "\n",
    "    key = user_recommendation_key(user_id)\n",
    "    return r.zrange(key, 0, -1, withscores=True)\n",
    "\n",
    "def update_user_recommendations(r, user_id, recommendations):\n",
    "    \"Update or create a set of recommendations for the user\"\n",
    "    print(\"in update_user_recommendations with user_id=\" + str(user_id))\n",
    "    key = user_recommendation_key(user_id)\n",
    "    # print(\"key is \" + key)\n",
    "    cnt = 0\n",
    "    for page_pair in recommendations:\n",
    "        r.zadd(key,{page_pair[0]:page_pair[1]})\n",
    "        cnt += 1\n",
    "    \n",
    "    return cnt\n",
    "\n",
    "def parse_recommendations(r, recommendation_list):\n",
    "    \"Parses a list of recommendations and updates for a given user\"\n",
    "    print(\"in parse_recommendations\")\n",
    "    for user_id, recommendations in recommendation_list:\n",
    "        update_user_recommendations(r, user_id, recommendations)\n",
    "\n",
    "clear_user_recommendations(r, 3001)\n",
    "parse_recommendations(r, sample_user_recommendations)\n",
    "\n",
    "print (\"Recommendations loaded for user 3001: {}\".format(get_user_recommendations(r, 3001)))\n"
   ]
  },
  {
   "cell_type": "markdown",
   "metadata": {
    "kernelspec": {
     "display_name": "Python (Redis Workshop)",
     "language": "Python",
     "name": "redisworkshop"
    }
   },
   "source": [
    "When you execute the sample code you should see a message indicating that 4 recommendations\n",
    "were loaded for user 3001.  We can use our redisinsight to see the state of the database after loading the recommendations."
   ]
  },
  {
   "cell_type": "markdown",
   "metadata": {
    "kernelspec": {
     "display_name": "Python (Redis Workshop)",
     "language": "Python",
     "name": "redisworkshop"
    }
   },
   "source": [
    "The signature for zadd changed from python 2 to python 3.  To store a recommendation in Redis for page 201 with a score .7, execute the command:"
   ]
  },
  {
   "cell_type": "code",
   "execution_count": null,
   "metadata": {
    "kernelspec": {
     "display_name": "Python (Redis Workshop)",
     "language": "Python",
     "name": "redisworkshop"
    }
   },
   "outputs": [],
   "source": [
    "r.zadd('sample_recommendation', {201 : .7})\n"
   ]
  },
  {
   "cell_type": "markdown",
   "metadata": {
    "kernelspec": {
     "display_name": "Python (Redis Workshop)",
     "language": "Python",
     "name": "redisworkshop"
    }
   },
   "source": [
    "## Retrieving Recommendations\n",
    "\n",
    "The next step in building our sample recommendation system, is to serve up recommendations\n",
    "to visitors. We are going to look at two different ways of providing recommendations to\n",
    "the users: top N and above a threshold.\n",
    "\n",
    "### Top N Retrieval\n",
    "\n",
    "The first example method we are going to look at returns an arbitrary number of the best\n",
    "recommendations available for a user. To retrieve recommendations in this fashion, our\n",
    "code needs to:\n",
    "\n",
    "* Compute a key for the requested user\n",
    "* Retrieve the top ranked items\n",
    "\n",
    "This can be accomplished with a single Redis command: ZREVRANGE. The ZREVRANGE command\n",
    "returns a range of a sorted set, treating the set as if it was ordered from highest to\n",
    "lowest. So if we use ZREVRANGE to request the range 0 to N-1, we get our *top* N elements.\n",
    "\n",
    "*Run the sample code below using SHIFT + ENTER to see how ZREVRANGE works.*"
   ]
  },
  {
   "cell_type": "code",
   "execution_count": null,
   "metadata": {
    "kernelspec": {
     "display_name": "Python (Redis Workshop)",
     "language": "Python",
     "name": "redisworkshop"
    }
   },
   "outputs": [],
   "source": [
    "\n",
    "def top_recommendations(r, user_id, N):\n",
    "    \"Returns the top N recommendations for the user\"\n",
    "    \n",
    "    key = user_recommendation_key(user_id)\n",
    "    return r.zrevrange(key, 0, N - 1)\n",
    "    \n",
    "print (\"Top 2 recommendations for user 3001: \", top_recommendations(r, 3001, 2))\n"
   ]
  },
  {
   "cell_type": "markdown",
   "metadata": {
    "kernelspec": {
     "display_name": "Python (Redis Workshop)",
     "language": "Python",
     "name": "redisworkshop"
    }
   },
   "source": [
    "After the code runs, you should see a message displaying the top two recommendations for\n",
    "user 3001. Like many other Redis commands, ZREVRANGE gracefully handles missing data\n",
    "instead of throwing an error. If the requested key does not exist an empty result is\n",
    "returned and if the range requested is larger than the number of members available, the\n",
    "smaller range is returned.\n",
    "\n",
    "In this code example, we only return the members of the sorted set in reverse sorted\n",
    "order. If we wanted to get both the members and the scores, we could add the `WITHSCORES`\n",
    "modifier to the command to return both. In the *redis-py* library, this is accomplished by\n",
    "passing the `withscores=True` argument to the function call.\n",
    "\n",
    "* * *\n",
    "\n",
    "> **Note**\n",
    "> \n",
    "> Most of the examples in this exercise work with reverse ranges, because we are\n",
    "> interested in the *top* recommendations for a user.  Redis provides \"forward\" versions \n",
    "> of all the reverse (REV) commands that we are using.  The forward versions treat the\n",
    "> sorted set as ordered in the ascending direction.\n",
    ">\n",
    "\n",
    "* * *\n",
    "\n",
    "### Threshold Recommendations \n",
    "\n",
    "The purpose of our recommendation system is to increase traffic to our website by pointing\n",
    "out blog posts that will be particularly engaging for the user. Recommending the top 2, 5\n",
    "or N recommendations works for many users, but it doesn't guarantee quality\n",
    "recommendations for all our users.\n",
    "\n",
    "Our recommendation system works by giving posts a score from -1 to 1, indiciating how\n",
    "likely a user is to like the particular post, so there may be no strongly recommended\n",
    "items for a given user. In that case, it might be better not to provide any\n",
    "recommendations at all rather than a low scoring post. We can implement this version of\n",
    "returning recommendations with code that:\n",
    "\n",
    "* Compute a key for the requested user\n",
    "* Return all keys above the requested threshold\n",
    "\n",
    "This can also be accomplished with a single Redis command: ZREVRANGEBYSCORE. The\n",
    "ZREVRANGEBYSCORE command is very similar to the ZREVRANGE command, it returns a list of\n",
    "members in reverse order. The difference between the two commands is that ZREVRANGE takes\n",
    "a range of elements while ZREVRANGEBYSCORE takes a range of scores to determine the\n",
    "results.\n",
    "\n",
    "In the next example, we return a number of recommendations but only return strong\n",
    "recommendations that are above a provided threshold. *Run the example below by\n",
    "selecting the code cell and pressing SHIFT + ENTER*"
   ]
  },
  {
   "cell_type": "code",
   "execution_count": null,
   "metadata": {
    "kernelspec": {
     "display_name": "Python (Redis Workshop)",
     "language": "Python",
     "name": "redisworkshop"
    }
   },
   "outputs": [],
   "source": [
    "def top_recommendations(r, user_id, threshold):\n",
    "    \"Returns the top recommendations for user based on a minimum score\"\n",
    "    \n",
    "    key = user_recommendation_key(user_id)\n",
    "    return r.zrevrangebyscore(key, 1.0, threshold, withscores=True)\n",
    "    \n",
    "print (\"Top recommendations for user 3001: \", top_recommendations(r, 3001, .7))\n"
   ]
  },
  {
   "cell_type": "markdown",
   "metadata": {
    "kernelspec": {
     "display_name": "Python (Redis Workshop)",
     "language": "Python",
     "name": "redisworkshop"
    }
   },
   "source": [
    "You should see a list of the top recommendations (along with their scores) for user 3001.\n",
    "\n",
    "Our threshold-based code returns all of the recommendations within a given range, but for\n",
    "some users that could be a substantial number of recommendations. It would be nice to\n",
    "continue to limit our results to a certain number of strongly recommended items. This can\n",
    "be accomplished by adding the LIMIT argument to our command. The LIMIT argument takes an\n",
    "offset and a count and applies it to our range.\n",
    "\n",
    "The sample code below combines both the top-N and threshold approaches, to return the\n",
    "top-N results above a certain threshold for a user. \n",
    "\n",
    "*Run the sample code by selecting the code cell and pressing SHIFT+ENTER*"
   ]
  },
  {
   "cell_type": "code",
   "execution_count": null,
   "metadata": {
    "kernelspec": {
     "display_name": "Python (Redis Workshop)",
     "language": "Python",
     "name": "redisworkshop"
    }
   },
   "outputs": [],
   "source": [
    "def top_recommendations(r, user_id, threshold, N=2):\n",
    "    \"Returns the top N (default=2) recommendations above the given threshold\"\n",
    "    \n",
    "    key = user_recommendation_key(user_id)\n",
    "    return r.zrevrangebyscore(key, 1.0, threshold, withscores=True, start=0, num=N)\n",
    "\n",
    "print (\"Top recommendations for user 3001: \", top_recommendations(r, 3001, .7))  "
   ]
  },
  {
   "cell_type": "markdown",
   "metadata": {
    "kernelspec": {
     "display_name": "Python (Redis Workshop)",
     "language": "Python",
     "name": "redisworkshop"
    }
   },
   "source": [
    "After executing the sample code, you should see two recommendations for user 3001 that are\n",
    "both above the 0.7 score threshold.\n",
    "\n",
    "\n",
    "* * *\n",
    "\n",
    "> **Note**\n",
    ">\n",
    "> The scores passed to the ZREVRANGEBYSCORE command can be specified as intervals.  You \n",
    "> can use `(` to indicate an open or non-inclusive interval and `]` to indicate a closed\n",
    "> or include interval.  Additionally, the arguments`+inf` and `-inf` can be used to\n",
    "> indicate positive and negative infinity, which allows you to select all of the possible\n",
    "> scores, without knowing the range beforehand.\n",
    "\n",
    "\n",
    "* * *\n",
    "\n",
    "## Retiring Recommendations\n",
    "\n",
    "Once a user has visited a particular recommendation, it is much less valuable as a future\n",
    "recommendation. Our recommendation system is supposed to increase the number of posts a\n",
    "user reads, so recommending them the same posts over and over generally won't increase our\n",
    "traffic. There are a different ways we could handle this - we could remove a\n",
    "recommendation once a user visits it or we could reduce it's score make it less likely to\n",
    "be served to the user.\n",
    "\n",
    "### Removing Recommendations\n",
    "\n",
    "The first way we can handle \"used\" recommendations is to remove the recommendation from the\n",
    "sorted set. This can be accomplished with a single Redis command: ZREM. The ZREM command\n",
    "removes a sequence of one or more members from a Sorted Set. The following example uses\n",
    "ZREM to remove a recommendation once it is used:"
   ]
  },
  {
   "cell_type": "code",
   "execution_count": null,
   "metadata": {
    "kernelspec": {
     "display_name": "Python (Redis Workshop)",
     "language": "Python",
     "name": "redisworkshop"
    }
   },
   "outputs": [],
   "source": [
    "def use_recommendation(r, user_id, page_id):\n",
    "    \"Removes a recommendation for a user after they visit the recommendation\"\n",
    "    \n",
    "    key = user_recommendation_key(user_id)\n",
    "    r.zrem(key, page_id)\n",
    "    \n",
    "\n",
    "parse_recommendations(r, sample_user_recommendations)\n",
    "\n",
    "print (\"Top recommendations for user 3001: \", top_recommendations(r, 3001, .5, N=4))\n",
    "use_recommendation(r, 3001, 206)\n",
    "print (\"Top recommendations for user 3001: \", top_recommendations(r, 3001, .5, N=4))\n"
   ]
  },
  {
   "cell_type": "markdown",
   "metadata": {
    "kernelspec": {
     "display_name": "Python (Redis Workshop)",
     "language": "Python",
     "name": "redisworkshop"
    }
   },
   "source": [
    "After running the above example, you should see the recommendations for user 3001 before removing page 208, then\n",
    "after removing page 208.  \n",
    "\n",
    "### Reducing Scores\n",
    "\n",
    "Reducing the score of a recommendation once it's been visited is another way we can handle\n",
    "a \"used\" recommendation. This way the strong recommendation is still in our set to\n",
    "consider, but we give more weight to highly recommended items that haven't been viewed.\n",
    "This can also be accomplished with a two commands: ZINCRBY and ZREMRANGEBYSCORE. The\n",
    "ZINCRBY command takes a key, an increment, and a member as a parameter and updates the\n",
    "member's score by the specified increment. The ZREMRANGEBYSCORE command is used to remove\n",
    "the recommendation if it's score is less than -1. The ZREMRANGEBYSCORE command takes a\n",
    "range of scores and removes all of the members in that range.\n",
    "\n",
    "In our example below, we reduce the score of a post by .1 after it has been read, then\n",
    "remove any post that has a score less than -1 to preserve our -1 to 1 range of scores:"
   ]
  },
  {
   "cell_type": "code",
   "execution_count": null,
   "metadata": {
    "kernelspec": {
     "display_name": "Python (Redis Workshop)",
     "language": "Python",
     "name": "redisworkshop"
    }
   },
   "outputs": [],
   "source": [
    "\n",
    "def use_recommendation(r, user_id, page_id):\n",
    "    \"Reduces the score of a recommendation after the specified user visits\"\n",
    "    \n",
    "    key = user_recommendation_key(user_id)\n",
    "    r.zincrby(key, -0.2, page_id)\n",
    "    \n",
    "    r.zremrangebyscore(key, \"-inf\", -1)\n",
    "\n",
    "parse_recommendations(r, sample_user_recommendations)\n",
    "\n",
    "print (\"Top recommendations for user 3001: \", get_user_recommendations(r, 3001))\n",
    "use_recommendation(r, 3001, 208)\n",
    "print (\"Top recommendations for user 3001: \", get_user_recommendations(r, 3001))\n"
   ]
  },
  {
   "cell_type": "markdown",
   "metadata": {
    "kernelspec": {
     "display_name": "Python (Redis Workshop)",
     "language": "Python",
     "name": "redisworkshop"
    }
   },
   "source": [
    "After running the above example, you should see the recommendations for user 3001 before\n",
    "and after reducing the score for page 208.\n",
    "\n",
    "## Working with Sets\n",
    "\n",
    "In the examples we've looked at so far, nothing we've done has really distinguished Sorted\n",
    "Sets from an ordered list, but Sorted Sets are called sets for a reason. Redis supports\n",
    "set operations (operations on multiple sets) on Sorted Sets as well. Redis provides two\n",
    "set operations on Sorted Sets:\n",
    "\n",
    "* ZINTERSTORE - intersection and store\n",
    "* ZUNIONSTORE - union and store\n",
    "\n",
    "These operations perform the familiar set intersection or union operations and store the\n",
    "results in a destination key. Arguments to the commands allow you to control how the\n",
    "scores from the two sets are combined. Redis allows you to control how the scores for\n",
    "members are combined. Scores can be combined using weights, aggregation (sum), or min/max.\n",
    "See the [ZUNIONSTORE command](https://redis.io/commands/zunionstore) for detailed\n",
    "information on combining scores.\n",
    "\n",
    "# Review\n",
    "\n",
    "This chapter looked at ways we can use Redis Sorted Sets to serve up recommendation data\n",
    "to users. We first looked at loading recommendation data into Redis from an external\n",
    "system, we then looked at two different ways of retrieving recommendations from Redis\n",
    "(top-N and threshold), we finally looked at two ways (deletion and score reduction) to\n",
    "retire used recommendation. Since most of our examples involved member manipulation, we\n",
    "took a bit of time to look at the set operators that can be applied to Sorted Sets.\n",
    "\n",
    "In the process, we learned how to use a variety of Redis commands:\n",
    "\n",
    "* ZADD\n",
    "* ZRANGE\n",
    "* ZREVRANGE \n",
    "* ZRANGEBYSCORE\n",
    "* ZREVRANGEBYSCORE\n",
    "* ZINCRBY\n",
    "* ZREMRANGEBYSCORE\n",
    "* ZINTERSTORE\n",
    "* ZUNIONSTORE\n",
    "\n",
    "Redis provides a wide range of commands that modify Sorted Sets.  We've looked at\n",
    "several of the commands in this chapter, but the details of all the commands available\n",
    "can be found at [Sorted Set Documentation](https://redis.io/commands#sorted_set) on \n",
    "[Redis.io](https://www.redis.io)."
   ]
  }
 ],
 "metadata": {
  "kernelspec": {
   "display_name": "Python 3",
   "language": "python",
   "name": "python3"
  },
  "language_info": {
   "codemirror_mode": {
    "name": "ipython",
    "version": 3
   },
   "file_extension": ".py",
   "mimetype": "text/x-python",
   "name": "python",
   "nbconvert_exporter": "python",
   "pygments_lexer": "ipython3",
   "version": "3.7.3"
  }
 },
 "nbformat": 4,
 "nbformat_minor": 2
}
