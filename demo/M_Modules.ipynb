{
 "cells": [
  {
   "cell_type": "markdown",
   "metadata": {
    "kernelspec": {
     "display_name": "Python (Redis Workshop)",
     "language": "Python",
     "name": "redisworkshop"
    }
   },
   "source": [
    "# Redis Modules\n",
    "\n",
    "Redis modules are a new feature in v4, that allows anyone to extend Redis with new commands and data structures.\n",
    "\n",
    "## What are Redis modules\n",
    "\n",
    "Modules are dynamic libraries that the Redis server can load at runtime. A module can consist of any code and make calls to any 3rd-party library. When loaded, a Redis module can register new commands and data structures with the server. These are virtually indistinguishable from the core commands and data structures, both in terms of usage as well as performance.\n",
    "\n",
    "## Developing a Redis module\n",
    "\n",
    "Modules can be developed by anyone possessing a certain level of coding skills  - the modules API is open and well-documented. Because Redis is written in C, the API can be used from any language that provides C bindings. These include C, C++, Rust and more.\n",
    "\n",
    "Actual development of a module is outside the scope of this notebook. For more information and resources related developing Redis modules refer to:\n",
    "\n",
    "* The official documentation\n",
    "  * [Redis Modules: an introduction to the API](https://github.com/antirez/redis/blob/unstable/src/modules/INTRO.md)\n",
    "  * [Native types in Redis modules](https://github.com/antirez/redis/blob/unstable/src/modules/TYPES.md)\n",
    "  * [Blocking commands in Redis modules](https://github.com/antirez/redis/blob/unstable/src/modules/BLOCK.md)\n",
    "  * [Modules API reference](https://github.com/antirez/redis/blob/unstable/src/modules/API.md)\n",
    "  * and the detailed code samples in under the [`src/modules`](https://github.com/antirez/redis/tree/unstable/src/modules) directory\n",
    "* Code gist: [Creating a redis Module in 15 lines of code!](https://gist.github.com/dvirsky/83fc32366d5ad82fc3dca47ed2704377)\n",
    "* Blog post: [Writing Redis Modules](https://redislabs.com/blog/writing-redis-modules/)\n",
    "* Webinar recording: [Extend Redis with Modules](https://www.youtube.com/watch?v=EglSYFodaqw)\n",
    "\n",
    "## Where to find modules\n",
    "\n",
    "While anyone can write and publish a Redis module, here are two online repositories that attempt to bring order:\n",
    "\n",
    "* The Redis Modules page at the project's website: [https://redis.io/modules](https://redis.io/modules)\n",
    "* The Redis Modules Hub: [http://redismodules.com/](http://redismodules.com/)\n",
    "\n",
    "## Using modules from Python\n",
    "\n",
    "Python's de facto standard Redis client, [redis-py](https://github.com/andymccurdy/redis-py), does not treat modules and their commands in any special way. In fact, it allows sending any arbitrary command with the [`execute_command()`](https://redis-py.readthedocs.io/en/latest/#redis.StrictRedis.execute_command) method. For example, although the client offers the `ping()` method, you can invoke `PING` by sending it raw:"
   ]
  },
  {
   "cell_type": "code",
   "execution_count": null,
   "metadata": {
    "kernelspec": {
     "display_name": "Python (Redis Workshop)",
     "language": "Python",
     "name": "redisworkshop"
    }
   },
   "outputs": [],
   "source": [
    "import redis\n",
    "\n",
    "# example connection parameters \n",
    "config = {\n",
    "    \"host\": \"redis\",\n",
    "    \"port\": 6379\n",
    "}\n",
    "\n",
    "r = redis.StrictRedis(**config)\n",
    "print (r.execute_command('PING'))"
   ]
  },
  {
   "cell_type": "markdown",
   "metadata": {
    "kernelspec": {
     "display_name": "Python (Redis Workshop)",
     "language": "Python",
     "name": "redisworkshop"
    }
   },
   "source": [
    "Commands that modules register are invoked by clients just like any other Redis command. While module commands may do not have dedicated implementation in the client, they can still be used using this method."
   ]
  }
 ],
 "metadata": {
  "kernelspec": {
   "display_name": "Python 3",
   "language": "python",
   "name": "python3"
  },
  "language_info": {
   "codemirror_mode": {
    "name": "ipython",
    "version": 3
   },
   "file_extension": ".py",
   "mimetype": "text/x-python",
   "name": "python",
   "nbconvert_exporter": "python",
   "pygments_lexer": "ipython3",
   "version": "3.7.3"
  }
 },
 "nbformat": 4,
 "nbformat_minor": 2
}
