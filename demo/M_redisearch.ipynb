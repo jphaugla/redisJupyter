{
 "cells": [
  {
   "cell_type": "markdown",
   "metadata": {
    "kernelspec": {
     "display_name": "Python (Redis Workshop)",
     "language": "Python",
     "name": "redisworkshop"
    }
   },
   "source": [
    "# RediSearch: a full-text search engine\n",
    "\n",
    "Redisearch implements a search engine on top of Redis. Unlike other Redis search libraries, it does not use internal data structures like Sorted sets, but rather its own data structures via the Redis Modules API.\n",
    "\n",
    "Primary Features:\n",
    "\n",
    "* Full-Text indexing of multiple fields in documents.\n",
    "* Incremental indexing without performance loss.\n",
    "* Document ranking (provided manually by the user at index time).\n",
    "* Complex boolean queries with AND, OR, NOT operators between sub-queries.\n",
    "* Optional query clauses.\n",
    "* Prefix based searches.\n",
    "* Field weights.\n",
    "* Exact Phrase Search, Slop (number of words between) based search.\n",
    "* Stemming based query expansion in many languages.\n",
    "* Support for custom functions for query expansion and scoring.\n",
    "* Limiting searches to specific document fields.\n",
    "* Numeric filters and ranges.\n",
    "* Geo filtering using Redis' own Geo-commands.\n",
    "* Supports any utf-8 encoded text.\n",
    "* Retrieve full document content or just ids\n",
    "* Automatically index existing Hash keys as documents.\n",
    "* Document deletion and updating with index garbage collection.\n",
    "* Auto-complete suggestions (with fuzzy prefix suggestions)\n",
    "\n",
    "The Redisearch project website is at [http://redisearch.io](http://redisearch.io).\n",
    "\n",
    "Redisearch is open source, the code is available at [https://github.com/RedisLabsModules/RediSearch](https://github.com/RedisLabsModules/RediSearch).\n",
    "\n",
    "## What is searching\n",
    "\n",
    "Searching is a core capability of almost any service and application. In fact, consider the following examples and the part that search plays in them:\n",
    "\n",
    "* A web search engine (e.g. Google)\n",
    "* A shopping website (e.g. Amazon)\n",
    "* A social network (e.g Facebook or Twitter)\n",
    "* A streaming provider (e.g. Netflix)\n",
    "* Your application here\n",
    "\n",
    "When using the term \"search\" to refer to that capability, it should be interpreted as fetching data based on its value(s).\n",
    "\n",
    "## Searching in Redis\n",
    "\n",
    "Redis is a (mostly) perfect data store, but when it comes to searching the data - i.e. get by value - it offers virtually nothing. Accessing data in Redis is always by (primary) key, so searching for values requires using one of two approaches:\n",
    "\n",
    "1. Full scan - perform any search by iterating over all the data items\n",
    "2. Indexing - maintain a data structure that supports efficient search\n",
    "\n",
    "A full scan is not an option in the context of low latency data serving as it is a slow and compute-intensive task. Indices, on the other hand, provide a solution that fits real time search requirements in terms of performance, but at the cost of extra storage and operations.\n",
    "\n",
    "While Redis has no built-in indexing mechanisms, its core data structures can be used for creating and maintaining them. For example, Sets naturally lend themselves to representing 1:N relationships, and Sorted Sets are excellent for doing range queries. There quite a few well-known \"recipes\" that use different data structures and techniques for indexing in Redis - see the [Secondary indexing with Redis](https://redis.io/topics/indexes) documentation page for more information.\n",
    "\n",
    "Because maintaining an index can quickly become complex, there are a lot of 3rd-party open source libraries that abstract the underlying complexities by providing indexing via an object-mapping framework. Notable examples for such mappers are Ruby's [Ohm (Object-hash mapping)](http://ohm.keyvalue.org/) and Python's [ROM (Redis object mapper)](https://pypi.python.org/pypi/rom).\n",
    "\n",
    "## Why RediSearch\n",
    "\n",
    "While there are many existing search solutions, most do not deliver when indexing and querying billions of document in real-time. Existing technologies usually \"suffer\" from being:\n",
    "\n",
    "* Written in Java\n",
    "* Bloated and complex\n",
    "* Design with disk storage in mind\n",
    "\n",
    "Redis, although extremely performant, has no built-in search and implementing your own indices on top of it can become a challenging task as described above. Moreover, the core Redis data structures are not always optimal for every indexing need in terms of time and/or space and more efficient approaches could be implemented to solve such cases.\n",
    "\n",
    "With v4's Modules API, Redis can be extended with modules that add new data structures and commands to the server. RediSearch is an open source Redis module written from scratch to address these: it indexes documents and executes text, numeric ranges, geospatial and autocomplete queries blazing fast.\n",
    "\n",
    "## Terminology\n",
    "\n",
    "### Searching\n",
    "\n",
    "Fetching data, referred to as a document, by its value. RediSearch lets you do exactly that.\n",
    "\n",
    "### A document\n",
    "\n",
    "A collection of one or more attribute properties (values). Attributes may be:\n",
    "\n",
    "* Numerical, having numbers as properties\n",
    "* Textual, made up of one or more words (terms)\n",
    "* Geographical, coordinates given as a longitude-latitude pairs\n",
    "\n",
    "RediSearch can store documents as Redis Hashes, or use your existing Redis Hashes. It also allows storing an optional arbitrary binary payload with each document.\n",
    "\n",
    "### An index\n",
    "\n",
    "An [index](https://en.wikipedia.org/wiki/Database_index) is the core concept of searching - it is a data structure that's designed to allow efficient access to data, at the cost of additional:\n",
    "\n",
    "* Storage resources: for keeping the index's data\n",
    "* Compute resources: for keeping the data in the index up-to-date\n",
    "\n",
    "An index is a mapping between a value and its location in the database, e.g. the primary key in an RDBMS or key name in Redis. RediSearch creates an index for each indexed attribute and uses several types of indices, depending on the properties' types.\n",
    "\n",
    "### The documents table\n",
    "\n",
    "While the input documents may be given any arbitrary identifiers, for compression purposes RediSearch maps each document to an internal identifier. RediSearch uses an efficient implementation of a [trie](https://en.wikipedia.org/wiki/Trie) - [triemap](https://github.com/RedisLabs/triemap) - for this purpose.\n",
    "\n",
    "### An inverted index (Posting List)\n",
    "\n",
    "An [inverted index](https://en.wikipedia.org/wiki/Inverted_index) (also referred to as Posting List) is a mapping between terms and their locations in the database (i.e. documents). RediSearch includes a custom data type that implements an inverted index - this is used for indexing textual terms in the documents.\n",
    "\n",
    "### A range tree\n",
    "\n",
    "A [tree data structure](https://en.wikipedia.org/wiki/Range_tree) that is used for range searches. RediSearch uses a clever mix of preallocations and linked lists to maintain trees with close-to-optimal depths.\n",
    "\n",
    "### A search engine\n",
    "\n",
    "Software that builds and queries indices. The general flow for building an index is:\n",
    "\n",
    "1. Take a document\n",
    "2. Break it apart to its constituent values\n",
    "3. Map terms/properties to the document using a Posting List\n",
    "\n",
    "Searching, via queries, is getting the documents that are linked to the provided terms. RediSearch is a search engine.\n",
    "\n",
    "## Training prelude\n",
    "\n",
    "The following sections in this notebook show how to work with RediSearch's core capabilities. The dataset used in the examples is the complete works of William Shakespeare. The imported dataset is stored in the `will_play_text.csv` semicolon-separated file in the following format:\n",
    "\n",
    "<code><pre>\n",
    "\"86169\";\"Romeo and Juliet\";\"4\";\"2.2.35\";\"JULIET\";\"O Romeo, Romeo! wherefore art thou Romeo?\"\n",
    "</pre></code>\n",
    "\n",
    "The uncompressed file is 9.9MB and 111,396 lines long. Each record in it is a single line from Shakespear's works.\n",
    "\n",
    "RediSearch can be used via a client that provides a language-specific interface to the module's API, and the project's website has the [full list](http://redisearch.io/#client-libraries). This notebook uses the Python client, [redisearch-py](https://github.com/RedisLabs/redisearch-py), that's installable with:\n",
    "\n",
    "<code><pre>\n",
    "$ pip install redisearch\n",
    "</pre></code>\n",
    "\n",
    "## Connecting to RediSearch\n",
    "\n",
    "To begin using RediSearch, the first thing that's needed is a client that connects to the search engine. The search client is associated with a single index, identified by its name:"
   ]
  },
  {
   "cell_type": "code",
   "execution_count": null,
   "metadata": {
    "kernelspec": {
     "display_name": "Python (Redis Workshop)",
     "language": "Python",
     "name": "redisworkshop"
    }
   },
   "outputs": [],
   "source": [
    "from redisearch import Client, TextField, NumericField\n",
    "\n",
    "# Create a search client for the index called 'ws' using the notebook's client\n",
    "client = Client('ws', conn=r)"
   ]
  },
  {
   "cell_type": "markdown",
   "metadata": {
    "kernelspec": {
     "display_name": "Python (Redis Workshop)",
     "language": "Python",
     "name": "redisworkshop"
    }
   },
   "source": [
    "## Index creation and deletion\n",
    "\n",
    "A RediSearch index must be explicitly created before it can be added with documents and/or searched. The [`FT.CREATE`](http://redisearch.io/Commands/#ftcreate) command creates an index:\n",
    "\n",
    "<code><pre>\n",
    "FT.CREATE {index} \n",
    "    [NOOFFSETS] [NOFIELDS] [NOSCOREIDX]\n",
    "    SCHEMA {field} [TEXT [WEIGHT {weight}] | NUMERIC | GEO] [SORTABLE] ...\n",
    "</pre></code>\n",
    "\n",
    "The index is identified by its unique `{index}` name.\n",
    "\n",
    "> Note: Keep your index name short to save RAM and bandwidth, the name is used in all key names that make up the index.\n",
    "\n",
    "When used, the optional `NOOFFSETS`, `NOFIELDS` and `NOSCOREIDX` flags reduce the index's memory footprint, but doing so disables parts of the search functionality. The schema is a list of one or more fields and their respective types - these fields will be indexed for documents that are added to the index.\n",
    "\n",
    "To create an index in Python using redisearch-py, call [`create_index()`](https://github.com/RedisLabs/redisearch-py/blob/master/API.md#create_index).\n",
    "\n",
    "Indices can be deleted with the [`FT.DROP`](http://redisearch.io/Commands/#ftdrop) command, thus deleting all keys that are associated to the index:\n",
    "\n",
    "<code><pre>\n",
    "FT.DROP {index}\n",
    "</pre></code>\n",
    "\n",
    "The Python client's [`drop_index()`](https://github.com/RedisLabs/redisearch-py/blob/master/API.md#drop_index) method achieves the same effect:"
   ]
  },
  {
   "cell_type": "code",
   "execution_count": null,
   "metadata": {
    "kernelspec": {
     "display_name": "Python (Redis Workshop)",
     "language": "Python",
     "name": "redisworkshop"
    }
   },
   "outputs": [],
   "source": [
    "from redis import exceptions\n",
    "\n",
    "# drop the index, ignore ResponseError exception if it doesn't exist\n",
    "try:\n",
    "    client.drop_index()\n",
    "except exceptions.ResponseError as e:\n",
    "    pass"
   ]
  },
  {
   "cell_type": "markdown",
   "metadata": {
    "kernelspec": {
     "display_name": "Python (Redis Workshop)",
     "language": "Python",
     "name": "redisworkshop"
    }
   },
   "source": [
    "Here are a few examples that create an index in Python by calling [`create_index()`](https://github.com/RedisLabs/redisearch-py/blob/master/API.md#create_index) and drop it immediately afterwards:"
   ]
  },
  {
   "cell_type": "code",
   "execution_count": null,
   "metadata": {
    "kernelspec": {
     "display_name": "Python (Redis Workshop)",
     "language": "Python",
     "name": "redisworkshop"
    }
   },
   "outputs": [],
   "source": [
    "# Index only the line's text\n",
    "client.create_index((TextField('text'),))\n",
    "client.drop_index()\n",
    "\n",
    "# Index both line text and number\n",
    "client.create_index((TextField('text'),\n",
    "                    NumericField('line')))\n",
    "client.drop_index()\n",
    "\n",
    "# Also index character's name with a low score\n",
    "client.create_index((TextField('text'),\n",
    "                    NumericField('line'),\n",
    "                    TextField('character', weight=0.1)))\n",
    "client.drop_index()"
   ]
  },
  {
   "cell_type": "markdown",
   "metadata": {
    "kernelspec": {
     "display_name": "Python (Redis Workshop)",
     "language": "Python",
     "name": "redisworkshop"
    }
   },
   "source": [
    "## Index creation exercise\n",
    "\n",
    "In the following code block, replace the comments with the actual field definitions that are specified:"
   ]
  },
  {
   "cell_type": "code",
   "execution_count": null,
   "metadata": {
    "kernelspec": {
     "display_name": "Python (Redis Workshop)",
     "language": "Python",
     "name": "redisworkshop"
    }
   },
   "outputs": [],
   "source": [
    "try:\n",
    "    client.drop_index()\n",
    "except exceptions.ResponseError as e:\n",
    "    pass\n",
    "\n",
    "client.create_index((TextField('text'),\n",
    "                    NumericField('line'),\n",
    "                    TextField('character', weight=0.1)))\n",
    "                    # Add the `play` text field with weight of 0.1\n",
    "                    # Add the `chapter` numerical field"
   ]
  },
  {
   "cell_type": "markdown",
   "metadata": {
    "kernelspec": {
     "display_name": "Python (Redis Workshop)",
     "language": "Python",
     "name": "redisworkshop"
    }
   },
   "source": [
    "## Obtaining information about an index\n",
    "\n",
    "The index's meta data is stored in the Redis database with a custom data structure at a key named `idx:{index}`. To fetch the meta data, call [`FT.INFO`](http://redisearch.io/Commands/#ftinfo), or the respective [`info()`](https://github.com/RedisLabs/redisearch-py/blob/master/API.md#info) method of the Python client:"
   ]
  },
  {
   "cell_type": "code",
   "execution_count": null,
   "metadata": {
    "kernelspec": {
     "display_name": "Python (Redis Workshop)",
     "language": "Python",
     "name": "redisworkshop"
    }
   },
   "outputs": [],
   "source": [
    "pprint.pprint(client.info())"
   ]
  },
  {
   "cell_type": "markdown",
   "metadata": {
    "kernelspec": {
     "display_name": "Python (Redis Workshop)",
     "language": "Python",
     "name": "redisworkshop"
    }
   },
   "source": [
    "## Document indexing\n",
    "\n",
    "Once created and before it can be queried against for meaningful results, an index needs to be added with documents. RediSearch's [`FT.ADD`](http://redisearch.io/Commands/#ftadd) does that:\n",
    "\n",
    "<code><pre>\n",
    "FT.ADD {index} {docId} {score}\n",
    "  [NOSAVE]\n",
    "  [REPLACE]\n",
    "  [LANGUAGE {language}] \n",
    "  [PAYLOAD {payload}]\n",
    "  FIELDS {field} {value} [{field} {value}...]`]\n",
    "</pre></code>\n",
    "\n",
    "Besides the mandatory `{index}` name, adding a document requires providing a unique document identifier - the `{docId}` - and a given identifier can be added to the index only once. Also, a document needs to be given a numerical score (`{score}`) between 0.0 and 1.0 that is used by the engine's scoring function. Lastly, every indexed field needs to be given a value for that added document.\n",
    "\n",
    "Adding documents to the index with the Python client is simply a matter of invoking the client's [`add_document()`](https://github.com/RedisLabs/redisearch-py/blob/master/API.md#add_document) with the right arguments. However, when doing bulk updates to the index, it is preferable to instantiate a [`BatchIndexer`](https://github.com/RedisLabs/redisearch-py/blob/master/API.md#class-batchindexer) object by calling [`batch_indexer()`](https://github.com/RedisLabs/redisearch-py/blob/master/API.md#batch_indexer). The `BatchIndexer` implements the same interface as the client, but employs Redis' pipelining for optimizing the network traffic.\n",
    "\n",
    "The following reads the dataset from the file, adding each line as a document in the index:"
   ]
  },
  {
   "cell_type": "code",
   "execution_count": null,
   "metadata": {
    "kernelspec": {
     "display_name": "Python (Redis Workshop)",
     "language": "Python",
     "name": "redisworkshop"
    }
   },
   "outputs": [],
   "source": [
    "# Since this is a bulk upload, we'll use Redis' pipelining with the...\n",
    "indexer = Client.BatchIndexer(client)\n",
    "\n",
    "# Add the complete works of William Shakespear to the index\n",
    "import csv\n",
    "with open('../static/files/will_play_text.csv') as fp:\n",
    "    f = csv.reader(fp, delimiter=';')\n",
    "    for l in f:\n",
    "        # [86169, 'Romeo and Juliet', 4, '2.2.35', 'JULIET', \"O Romeo, Romeo! wherefore art thou Romeo?\"]\n",
    "        indexer.add_document(l[0],\n",
    "                        text=l[5], line=l[0], play=l[1], chapter=(l[2] or 0), character=l[4])\n",
    "indexer.commit()\n",
    "pprint.pprint(client.info())"
   ]
  },
  {
   "cell_type": "markdown",
   "metadata": {
    "kernelspec": {
     "display_name": "Python (Redis Workshop)",
     "language": "Python",
     "name": "redisworkshop"
    }
   },
   "source": [
    "### The anatomy of a document in the index\n",
    "\n",
    "When a document is added to the index, the engine creates the relevant mappings for it. Each `docId` is stored in Redis as a [Hash](https://redis.io/topics/data-types-intro#redis-hashes), with the Hash's fields corrosponding to the document's contents:"
   ]
  },
  {
   "cell_type": "code",
   "execution_count": null,
   "metadata": {
    "kernelspec": {
     "display_name": "Python (Redis Workshop)",
     "language": "Python",
     "name": "redisworkshop"
    }
   },
   "outputs": [],
   "source": [
    "docid = '86169'\n",
    "print 'Type of key {}: {}'.format(docid, r.type(docid))\n",
    "pprint.pprint(r.hgetall(docid))"
   ]
  },
  {
   "cell_type": "markdown",
   "metadata": {
    "kernelspec": {
     "display_name": "Python (Redis Workshop)",
     "language": "Python",
     "name": "redisworkshop"
    }
   },
   "source": [
    "Note that while documents are stored in Redis by default, this isn't a strict requirement. You can use RediSearch solely for the purpose of indexing, while the documents themselves are managed by another data store. To do so, call `FT.ADD` with the optional `NOSAVE` flag.\n",
    "\n",
    "Next, the terms and attributes of every indexed field are mapped to the document with a set of custom data structures according to their type. Textual terms (words) are stored in Posting Lists (inverted index) under the keys `ft:{index}/{term}`. Numerical properties are indexed using a [range tree](https://en.wikipedia.org/wiki/Range_tree) that's stored under the keys `nm:{index}/{field}`. Lastly, geographical using [Redis' Geosets](https://redis.io/commands#geo) under `geo:{index}/{field}`.\n",
    "\n",
    "### Adding existing Redis Hashes as documents\n",
    "\n",
    "RediSearch is also capable of indexing the documents that're already in your Redis database, provided that you've used the Hash data structure for storing them. The [`FT.ADDHASH`](http://redisearch.io/Commands/#ftaddhash) assumes that the `docId` is a Hash key name with the index schema's fields stored in it:\n",
    "\n",
    "<code><pre>\n",
    " FT.ADDHASH {index} {docId} {score} [LANGUAGE language] [REPLACE]\n",
    "</pre></code>\n",
    "\n",
    "## Deleting a document\n",
    "\n",
    "To delete a document from the index, use the [`FT.DEL`](http://redisearch.io/Commands/#ftdel) command:\n",
    "\n",
    "<code><pre>\n",
    "FT.DEL {index} {doc_id}\n",
    "</pre></code>\n",
    "\n",
    "## Optimizing the RAM footprint of an index\n",
    "\n",
    "While populating the index's data structures, RediSearch preallocates memory to reduce processing time. Once the indexing is complete, it is possible to instruct the engine to free any leftover allocations with the [`FT.OPTIMIZE`](http://redisearch.io/Commands/#ftoptimize) command.\n",
    "\n",
    "## Index queries\n",
    "\n",
    "Querying the index is possible via the use of a query language. The language has the following rules:\n",
    "\n",
    "| Query                                    | Rule                                     |\n",
    "| ---------------------------------------- | ---------------------------------------- |\n",
    "| `wherefore art thou`                     | documents containing the intersection of all terms (AND) |\n",
    "| `(wherefore art thou)`                   | ditto                                    |\n",
    "| `\"wherefore art thou\"`                   | exact phrase match                       |\n",
    "| <code>wherefore&#124;art&#124;thou</code> | union of documents containing one of the terms (OR) |\n",
    "| `-wherefore`                             | negation, documents that do not contain the term (NOT) |\n",
    "| `whe*`                                   | prefix (3 or more characters) match      |\n",
    "| `@text:romeo`                            | search the term in a selected field      |\n",
    "| <code>@text&#124;character: romeo</codE> | search term in any of the selected fields |\n",
    "| `@chapter:[(0 +inf]`                     | numeric range, Redis-like syntax         |\n",
    "| `~love`                                  | optional term/clause, documents with it will rank higher |\n",
    "\n",
    "Complex queries can be made up of one or more rules, as shown by the following example:\n",
    "\n",
    "<code><pre>\n",
    "where* ~love @character:romeo|juliet\n",
    "</pre></code>\n",
    "\n",
    "## Executing a search query\n",
    "\n",
    "Calling [`FT.SEARCH`](http://redisearch.io/Commands/#ftsearch) runs a query against an index - here's the commands' full syntax:\n",
    "\n",
    "<code><pre>\n",
    "FT.SEARCH {index} {query} [NOCONTENT] [VERBATIM] [NOSTOPWORDS] [WITHSCORES] [WITHPAYLOADS]\n",
    "  [FILTER {numeric_field} {min} {max}] ...\n",
    "  [GEOFILTER {geo_field} {lon} {lat} {raius} m|km|mi|ft]\n",
    "  [INKEYS {num} {key} ... ]\n",
    "  [INFIELDS {num {field} ... ]\n",
    "  [SLOP {slop}] [INORDER]\n",
    "  [LANGUAGE {language}]\n",
    "  [EXPANDER {expander}]\n",
    "  [SCORER {scorer}]\n",
    "  [PAYLOAD {payload}]\n",
    "  [SORTBY {field} [ASC|DESC]]\n",
    "  [LIMIT offset num]\n",
    "</pre></code>\n",
    "\n",
    "The client's [`search()`](https://github.com/RedisLabs/redisearch-py/blob/master/API.md#search) method can be invoked to perform a simple search:"
   ]
  },
  {
   "cell_type": "code",
   "execution_count": null,
   "metadata": {
    "kernelspec": {
     "display_name": "Python (Redis Workshop)",
     "language": "Python",
     "name": "redisworkshop"
    }
   },
   "outputs": [],
   "source": [
    "results = client.search('where* ~love @character:romeo|juliet')\n",
    "print 'Total results: {}'.format(results.total)\n",
    "print 'First search result: {}'.format(results.docs[0])"
   ]
  },
  {
   "cell_type": "markdown",
   "metadata": {
    "kernelspec": {
     "display_name": "Python (Redis Workshop)",
     "language": "Python",
     "name": "redisworkshop"
    }
   },
   "source": [
    "## Query exercises\n",
    "\n",
    "1. Search for love in all of Shakespeare's works (5275 results)"
   ]
  },
  {
   "cell_type": "code",
   "execution_count": null,
   "metadata": {
    "kernelspec": {
     "display_name": "Python (Redis Workshop)",
     "language": "Python",
     "name": "redisworkshop"
    }
   },
   "outputs": [],
   "source": [
    "query = 'your query here'\n",
    "results = client.search(query)\n",
    "print results.total"
   ]
  },
  {
   "cell_type": "markdown",
   "metadata": {
    "kernelspec": {
     "display_name": "Python (Redis Workshop)",
     "language": "Python",
     "name": "redisworkshop"
    }
   },
   "source": [
    "2. Find the lines that Othello's character utters (3762 results)"
   ]
  },
  {
   "cell_type": "code",
   "execution_count": null,
   "metadata": {
    "kernelspec": {
     "display_name": "Python (Redis Workshop)",
     "language": "Python",
     "name": "redisworkshop"
    }
   },
   "outputs": [],
   "source": [
    "query = 'your query here'\n",
    "results = client.search(query)\n",
    "print results.total"
   ]
  },
  {
   "cell_type": "markdown",
   "metadata": {
    "kernelspec": {
     "display_name": "Python (Redis Workshop)",
     "language": "Python",
     "name": "redisworkshop"
    }
   },
   "source": [
    "3. Make your own query and run it"
   ]
  },
  {
   "cell_type": "code",
   "execution_count": null,
   "metadata": {
    "kernelspec": {
     "display_name": "Python (Redis Workshop)",
     "language": "Python",
     "name": "redisworkshop"
    }
   },
   "outputs": [],
   "source": [
    "query = 'your query here'\n",
    "results = client.search(query)\n",
    "print results.total"
   ]
  },
  {
   "cell_type": "markdown",
   "metadata": {
    "kernelspec": {
     "display_name": "Python (Redis Workshop)",
     "language": "Python",
     "name": "redisworkshop"
    }
   },
   "source": [
    "## Autocompletion\n",
    "\n",
    "RediSearch can provide suggestions for autocompletion. This feature is unrelated to document indexing and can be used exclusively, alongside or not at all.\n",
    "\n",
    "### Creating a suggestions dictionary\n",
    "\n",
    "To create a dictionary with suggestion for autocomple, use the [`FT.SUGGADD`](http://redisearch.io/Commands/#ftsuggadd) command:\n",
    "\n",
    "<code><pre>\n",
    "FT.SUGADD {key} {string} {score} [INCR]\n",
    "</pre></code>\n",
    "\n",
    "`{key}` is the name of the key that will be used for storing the dictionary. Internally, RediSearch uses a highly-compressed implementation of the [Trie data structure](https://en.wikipedia.org/wiki/Trie) to facilitate this type of search. `{string}` is the suggestion that the autocomplete will provide, along with a `{score}` that is a floating-point number used in ranking it. The optional `INCR` flag can be used to increment an existing suggestion's score, rather than replace it.\n",
    "\n",
    "The following code constructs an autocomplete dictionary from Shakespeare's dataset by adding every line as a suggestion:"
   ]
  },
  {
   "cell_type": "code",
   "execution_count": null,
   "metadata": {
    "kernelspec": {
     "display_name": "Python (Redis Workshop)",
     "language": "Python",
     "name": "redisworkshop"
    }
   },
   "outputs": [],
   "source": [
    "from redisearch import AutoCompleter, Suggestion\n",
    "\n",
    "ac = AutoCompleter('wsac', conn=r)\n",
    "with open('../static/files/will_play_text.csv') as fp:\n",
    "    f = csv.reader(fp, delimiter=';')\n",
    "    suggs = []\n",
    "    for l in f:\n",
    "        suggs.append(Suggestion(l[5]))\n",
    "        if int(l[0]) % 100 == 0:\n",
    "            ac.add_suggestions(*suggs, increment=True)\n",
    "            suggs = []\n",
    "    ac.add_suggestions(*suggs)\n",
    "print ac.len()"
   ]
  },
  {
   "cell_type": "markdown",
   "metadata": {
    "kernelspec": {
     "display_name": "Python (Redis Workshop)",
     "language": "Python",
     "name": "redisworkshop"
    }
   },
   "source": [
    "### Deleting suggestions from the dictionary and deleting the dictionary\n",
    "\n",
    "To delete a suggestion from the dictionary use [`FT.SUGDEL`](http://redisearch.io/Commands/#ftsugdel), or the AutoCompleter's [`delete()`](https://github.com/RedisLabs/redisearch-py/blob/master/API.md#delete) method.\n",
    "\n",
    "The autocomplete dictionary is stored under a single key - to delete the entire dictionary simply use Redis' [`DEL`](https://redis.io/commands/del) on it.\n",
    "\n",
    "### Getting autocomplete suggestions\n",
    "\n",
    "Querying the autocomplete dictionary for suggestions is done with the [`FT.SUGGET`](http://redisearch.io/Commands/#ftsugget) command:\n",
    "\n",
    "<code><pre>\n",
    "FT.SUGGET {key} {prefix} [FUZZY] [MAX num] [WITHSCORES]\n",
    "</pre></code>\n",
    "\n",
    "`{key}` is the key name of the autocomplete dictionary, and `{prefix}` is the prefix to provide suggestions for. The `FUZZY` flag, when set, will perform a fuzzy search that includes suggestions at a [Levenshtein distance](https://en.wikipedia.org/wiki/Levenshtein_distance) of 1 from the searched prefix. `MAX` can be specified to limit the number of returned suggestions, and `WITHSCORES` will include suggestion's scores in the reply."
   ]
  },
  {
   "cell_type": "code",
   "execution_count": null,
   "metadata": {
    "kernelspec": {
     "display_name": "Python (Redis Workshop)",
     "language": "Python",
     "name": "redisworkshop"
    }
   },
   "outputs": [],
   "source": [
    "query = 'search'\n",
    "reply = ac.get_suggestions(query)\n",
    "print 'Autocomplete results for \\'{}\\':'.format(query)\n",
    "pprint.pprint(reply)"
   ]
  }
 ],
 "metadata": {
  "kernelspec": {
   "display_name": "Python 3",
   "language": "python",
   "name": "python3"
  },
  "language_info": {
   "codemirror_mode": {
    "name": "ipython",
    "version": 3
   },
   "file_extension": ".py",
   "mimetype": "text/x-python",
   "name": "python",
   "nbconvert_exporter": "python",
   "pygments_lexer": "ipython3",
   "version": "3.7.3"
  }
 },
 "nbformat": 4,
 "nbformat_minor": 2
}
