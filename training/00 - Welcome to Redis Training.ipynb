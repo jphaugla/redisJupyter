{
 "cells": [
  {
   "cell_type": "markdown",
   "metadata": {
    "kernelspec": {
     "display_name": "Python (Redis Workshop)",
     "language": "Python",
     "name": "redisworkshop"
    }
   },
   "source": [
    "# Welcome to the Redis Developer Workshop\n",
    "\n",
    "Welcome to today's Redis training.  Today's training will cover several key skills used in building applications\n",
    "with Redis.  Over the course of the day, you will learn about:\n",
    "\n",
    "* Various data structures within Redis\n",
    "* Architecture of Redis, Redis Enterprise, and Redis Enterprise Flash\n",
    "* Transaction, Consistency and Concurrency control\n",
    "* Durability of Data\n",
    "* Modules (including ReJSON and RediSearch)\n",
    " \n",
    "The training materials presented today will be a combination of slide presentations, demos, sample code\n",
    "and hands-on coding labs.  Python is the language that will be used for today's activities, but Java\n",
    "code examples will be included with the digitial training materials provided.\n",
    "\n",
    "As we progress through the exercises, we will progress through each chapter together.  Within the chapters there\n",
    "will be time for individual exploration - sample code to experiment with and exercises to work through.  Please don't\n",
    "feel rushed to complete all of the exercises, attendees are coming with different backgrounds in Redis and we want\n",
    "to make sure there is material for everyone.  All of the lab material will be available for download.  \n",
    "\n",
    "## Environment and Navigation\n",
    "\n",
    "For today's training, we are presenting the sample code and hands-on exercises using [Jupyter Notebooks](http://jupyter.org/), \n",
    "a platform for creating interactive documents that mix graphics, text and executable programs.  Our training material consists\n",
    "of several Jupyter Notebooks that cover most of the main Redis data structures, scripting and transactions.  Each Notebook\n",
    "contains a mix of sample code and explanatory text.  The sample code can be edited and executed within the Notebook environment.\n",
    "\n",
    "To run the code, select the cell and press SHIFT + ENTER to execute the code."
   ]
  },
  {
   "cell_type": "code",
   "execution_count": 3,
   "metadata": {
    "kernelspec": {
     "display_name": "Python (Redis Workshop)",
     "language": "Python",
     "name": "redisworkshop"
    }
   },
   "outputs": [
    {
     "name": "stdout",
     "output_type": "stream",
     "text": [
      "Code executed\n"
     ]
    }
   ],
   "source": [
    "\n",
    "print (\"Code executed\")\n"
   ]
  },
  {
   "cell_type": "markdown",
   "metadata": {
    "kernelspec": {
     "display_name": "Python (Redis Workshop)",
     "language": "Python",
     "name": "redisworkshop"
    }
   },
   "source": [
    "You should see the message `Code executed` printed underneath the cell.  Now try selecting the cell and editing the code.\n",
    "Change the string `\"Code executed\"` to `\"Code edited\"`, then re-run the result by making sure the cell is selected and\n",
    "pressing SHIFT + ENTER.  The message underneath the code cell should change from `Code executed` to `Code edited`. \n",
    "\n",
    "Most of the sample code for today's workshop is presented in this executable format.  You can and are encouraged to modify\n",
    "the sample code as we progress through the day.\n",
    "\n",
    "Navigating within the notebooks is simple.  From the main landing page, navigate into a particular chapter by pressing the Go!\n",
    "button beneath the chapter title.  When you are finished with a chapter, you can return to the main landing page by using your\n",
    "browser's back button or by clicking on the logo at the top of the page.\n",
    "\n",
    "\n",
    "## Prior Experience\n",
    "\n",
    "No prior Redis experience is necessary for today's training.  For those of you with no prior experience using Redis, we start\n",
    "from the beginning an demonstrate how to connect to Redis and how to implement a very simple Redis version of the classic Hello World Program.  For those of you with some prior experience, there is detailed information on Redis data structures and larger\n",
    "exercises to work on.\n",
    "\n",
    "We do assume that you have prior development experience in some language, preferably Python or Java and that you are familiar with\n",
    "the development tools for your preferred language.  For those of you who may not have experience with Python, it often looks very close to pseudo-code and is accessible to developers with prior experience in other languages. \n",
    "\n",
    "---\n",
    "\n",
    "\n",
    "Today's training should be both fun and education.  Please enjoy yourself while you learn more about Redis.\n",
    "The training is designed to be interactive, so please take time to experiment with the code samples and work on the exercises.  We encourage you to ask questions and take advantage of the trainers' experience."
   ]
  },
  {
   "cell_type": "code",
   "execution_count": null,
   "metadata": {},
   "outputs": [],
   "source": []
  }
 ],
 "metadata": {
  "kernelspec": {
   "display_name": "Python 3",
   "language": "python",
   "name": "python3"
  },
  "language_info": {
   "codemirror_mode": {
    "name": "ipython",
    "version": 3
   },
   "file_extension": ".py",
   "mimetype": "text/x-python",
   "name": "python",
   "nbconvert_exporter": "python",
   "pygments_lexer": "ipython3",
   "version": "3.7.3"
  }
 },
 "nbformat": 4,
 "nbformat_minor": 2
}
