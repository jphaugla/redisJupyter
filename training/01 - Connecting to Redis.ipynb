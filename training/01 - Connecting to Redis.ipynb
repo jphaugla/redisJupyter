{
 "cells": [
  {
   "cell_type": "markdown",
   "metadata": {
    "kernelspec": {
     "display_name": "Python (Redis Workshop)",
     "language": "Python",
     "name": "redisworkshop"
    }
   },
   "source": [
    "# Connecting to Redis\n",
    "\n",
    "The first step in working with Redis, like most any database, is setting \n",
    "up a connection to the database server.  The server could be running \n",
    "on the same machine as the application program or on a remote machine\n",
    "dedicated to running the database.\n",
    "\n",
    "This chapter will walk through establishing a connection to Redis on either a local or\n",
    "remote host, and using that connection to implement your first Redis program. To\n",
    "accomplish these tasks, you will need to learn about:\n",
    "\n",
    "* Redis client libraries\n",
    "* Database connection parameters\n",
    "* Establishing connections to a database\n",
    "\n",
    "After learning the basics of establishing a connection, we will walk through a\n",
    "Redis version of the classic Hello World program.\n",
    "\n",
    "## Client Libraries \n",
    "\n",
    "Redis is accessed through a client object that provides methods for executing the Redis\n",
    "commands. This paradigm of exposing a client object is used by most Redis libraries as\n",
    "well as a host of other NoSQL and relational database libraries. This paradigm is popular\n",
    "across a programming languages.\n",
    "\n",
    "The most popular client library for Python is the open source `redis-py` package. The\n",
    "`redis-py` package can be installed on a system using any of the popular Python package\n",
    "management systems. We will be using this library for all of our examples.\n",
    "\n",
    "Creating a Redis client with `redis-py` is extremely simple - just instantiate an instance\n",
    "of the `StrictRedis` object. Once constructed, the resulting instance allows you to\n",
    "manipulate data on your Redis server through method calls.\n",
    "\n",
    "* * *\n",
    "\n",
    "> **Note**\n",
    ">\n",
    "> For historical reasons, the `redis-py` API provides two client objects \n",
    "> `Redis` and `StrictRedis`.  `StrictRedis` should be used for all new projects.\n",
    "> The `Redis` class is provided for backwards compatibility with older versions\n",
    "> of the library.\n",
    "> \n",
    "\n",
    "* * *\n",
    "\n",
    "\n",
    "## Connection Parameters\n",
    "\n",
    "Connection parameters are used to identify the Redis database your program will be\n",
    "communicating with.  Although that database could be on the same machine as your\n",
    "program or a remote server, the parameters used to specify a connection are always\n",
    "the same.\n",
    "\n",
    "There are four connection parameters used with all Redis clients: `host`, `port`,\n",
    "`password`, and `db`.  Each of the parameters is documented in the table below:\n",
    "\n",
    "Paramter | Meaning | Examples\n",
    "---------|---------|----------\n",
    "host | DNS name of database server | redis-16464.c8.us-east-1-3.ec2.cloud.redislabs.com\n",
    "port | port number of database     | 6379 (default Redis port)\n",
    "password | database password | secret\n",
    "db | virtual database number | 0 (default)\n",
    "\n",
    "The first three parameters: `host`, `port`, and `password` should be familiar to anyone\n",
    "with client-server programming experience.  These parameters are used to identify the \n",
    "network address of a sever process; however, the `db` parameter is unique to Redis.\n",
    "\n",
    "In Redis, your data can be partitioned across multiple *virtual* databases\n",
    "identified by an integer.  When specifying a database connection, the `db` parameter is\n",
    "used to specify which virtual database your connection will be interacting with.  If\n",
    "unspecified the default database is zero. Virtual databases an be used to partition your data \n",
    "within the same process.  \n",
    "\n",
    "* * *\n",
    "\n",
    "> **Tip**\n",
    ">\n",
    "> While Redis supports multiple virtual databases to separate your data, the use of \n",
    "> multiple databases in production systems is discouraged. The recommended practice for \n",
    "> data separation in Redis is to deploy multiple database processes.  Some systems, \n",
    "> including Redis<sup>e</sup>, have gone as far as dropping support for multiple databases\n",
    "> given how strongly the practice is discouraged.\n",
    ">\n",
    "\n",
    "* * *\n",
    "\n",
    "In the example below, we show how to create a single connection to Redis using the\n",
    "`StrictRedis` object. We specify the parameters for our database connection in a Python\n",
    "dictionary and pass the dictionary to the `StrictRedis` constructor using the `**` syntax\n",
    "to unpack the dictionary.\n",
    "\n",
    "The constructor for both the `StrictRedis` and `Redis` objects takes a number of keyword\n",
    "arguments to specify a Redis connection. The `**` syntax conveniently allows us to specify\n",
    "our connection configuration once as a dictionary and then reuse that dictionary structure\n",
    "whenever we need to specify connection parameters.\n",
    "\n",
    "* * *\n",
    "\n",
    "**Note**\n",
    "\n",
    "> If you require the connection information for the Redis instance you are running against\n",
    "> today, please select the code cell below and execute it using the SHIFT + ENTER keys.\n",
    ">"
   ]
  },
  {
   "cell_type": "code",
   "execution_count": null,
   "metadata": {
    "kernelspec": {
     "display_name": "Python (Redis Workshop)",
     "language": "Python",
     "name": "redisworkshop"
    }
   },
   "outputs": [],
   "source": [
    "import pprint\n",
    "pprint.pprint(config)"
   ]
  },
  {
   "cell_type": "markdown",
   "metadata": {
    "kernelspec": {
     "display_name": "Python (Redis Workshop)",
     "language": "Python",
     "name": "redisworkshop"
    }
   },
   "source": [
    "* * *\n",
    "\n",
    "*Try running the example below.  Select the code cell then press SHIFT + ENTER to execute.*"
   ]
  },
  {
   "cell_type": "code",
   "execution_count": null,
   "metadata": {
    "kernelspec": {
     "display_name": "Python (Redis Workshop)",
     "language": "Python",
     "name": "redisworkshop"
    }
   },
   "outputs": [],
   "source": [
    "import redis\n",
    "# example connection parameters\n",
    "config = {\n",
    "    \"host\": \"redis\",\n",
    "    \"port\": 6379,\n",
    "}\n",
    "\n",
    "# actual connection parameters are provided by the Notebook environment\n",
    "r = redis.StrictRedis(**config)\n",
    "r.info()\n",
    "print (\"Connected to DB-%d@%s:%d\" % (r.connection_pool.connection_kwargs['db'], r.connection_pool.connection_kwargs['host'], r.connection_pool.connection_kwargs['port']))"
   ]
  },
  {
   "cell_type": "markdown",
   "metadata": {
    "kernelspec": {
     "display_name": "Python (Redis Workshop)",
     "language": "Python",
     "name": "redisworkshop"
    }
   },
   "source": [
    "After executing the code, you should see an output message indicating your Notebook environment is connected to a Redis database.  The message will include the actual hostname, port and virtual database being used, not the information from the `sample_params`.\n",
    "\n",
    "The `workshop.is_connected` function was created specifically for our Notebook training\n",
    "environment.  It is not available in any standard libraries.  It is one of a set of \n",
    "functions provided to facilitate today's training.\n",
    "\n",
    "\n",
    "## Hello World\n",
    "\n",
    "Hello World is the traditional program used to introduce new technologies, so \n",
    "why not our Redis training with Hello World as well.  Since the key-value operations\n",
    "are one of the most popular ways to use Redis, it seems only fitting to start with \n",
    "the Redis GET and SET commands to build our Hello World program.\n",
    "\n",
    "Our Redis Hello World program demonstrates several key elements used in almost all Redis programs.  Our first Redis program will show how to:\n",
    "\n",
    "* Import our client library interface \n",
    "* Connect to a Redis database \n",
    "* Load our Hello World message into Redis\n",
    "* Fetch our message from the database\n",
    "* Print the results from the database as output\n",
    "\n",
    "\n",
    "*Run this sample program by selecting the Notebook code cell and pressing SHIFT + ENTER \n",
    "to execute.*"
   ]
  },
  {
   "cell_type": "code",
   "execution_count": null,
   "metadata": {
    "kernelspec": {
     "display_name": "Python (Redis Workshop)",
     "language": "Python",
     "name": "redisworkshop"
    }
   },
   "outputs": [],
   "source": [
    "r.set(\"workshop_message\", \"Hello World!\")\n",
    "message = r.get(\"workshop_message\")\n",
    "\n",
    "print (message)\n"
   ]
  },
  {
   "cell_type": "markdown",
   "metadata": {
    "kernelspec": {
     "display_name": "Python (Redis Workshop)",
     "language": "Python",
     "name": "redisworkshop"
    }
   },
   "source": [
    "After executing the code, you should see the familiar Hello World message printed to the Notebook.\n",
    "\n",
    "* * *\n",
    "\n",
    "> **Note**\n",
    ">\n",
    "> In this example, we've shown all the elements of creating a basic Redis program\n",
    "> in Python so that you can see all the details.  Most of the examples in the Notebook\n",
    "> will hide the boilerplate code for importing the Redis libraries and making a \n",
    "> connection to the Redis server, so that you can concentrate on the material for that\n",
    "> Notebook.\n",
    "> \n",
    "\n",
    "* * *\n",
    "\n",
    "The structure of our Python code is very straightforward and most Redis programs, even\n",
    "those in other programming languages, will follow a similar pattern. The first step in our\n",
    "program is to import the Redis client libraries. Once our client library is accessible, we\n",
    "declare the connection parameters for our database server and create an instance of the\n",
    "`StrictRedis` object to connect to the database. Finally, once the database connection is\n",
    "established, we perform commands to read and write data, ultimately printing out the\n",
    "fetched data as the result.\n",
    "\n",
    "Once you have run the example, edit the code cell and change how the Hello World program\n",
    "works. See if you can edit the program to store a different message in Redis and change\n",
    "the results.\n",
    "\n",
    "\n",
    "## Review\n",
    "\n",
    "In this chapter, we constructed a single connection to a Redis database using\n",
    "the Python `redis-py` client.  We specified the connection information necessary\n",
    "to identify our Redis database, then created an instance of the `StrictRedis`\n",
    "client to manipulate data on the database.  Once we created our client, we accessed \n",
    "pre-loaded data from our database to implement a Redis version of the classic Hello \n",
    "World program.\n",
    "\n",
    "This chapter demonstrates setting up a basic Redis connection.  Like most Redis libraries, \n",
    "`redis-py` provides developers with a wide range of advanced connection features including: \n",
    "\n",
    "* SSL/TLS\n",
    "* Connection Pooling\n",
    "* Socket parameter tuning\n",
    "* Operation pipelining\n",
    "\n",
    "More information about the advanced connection features can be found in the\n",
    "[redis-py documentation](https://redis-py.readthedocs.io/en/latest/index.html)."
   ]
  }
 ],
 "metadata": {
  "kernelspec": {
   "display_name": "Python 3",
   "language": "python",
   "name": "python3"
  },
  "language_info": {
   "codemirror_mode": {
    "name": "ipython",
    "version": 3
   },
   "file_extension": ".py",
   "mimetype": "text/x-python",
   "name": "python",
   "nbconvert_exporter": "python",
   "pygments_lexer": "ipython3",
   "version": "3.7.3"
  }
 },
 "nbformat": 4,
 "nbformat_minor": 2
}
